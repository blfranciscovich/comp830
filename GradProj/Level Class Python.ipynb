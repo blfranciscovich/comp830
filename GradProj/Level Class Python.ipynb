{
 "cells": [
  {
   "cell_type": "markdown",
   "metadata": {},
   "source": [
    "# Introduction\n",
    "If you have knowledge in Java, and are trying to better understand the uderworks of Python, this interactive Jupyter Notebook is a great starting point! We will be going over different levels, starting wiht the basiscs of each language and ending with design patterns.\n",
    "\n",
    "Go into what is Python then on Java, what is Java"
   ]
  },
  {
   "cell_type": "markdown",
   "metadata": {},
   "source": [
    "## Level 2\n",
    "During level one, we will go through the following:\n",
    "\n",
    "Make sure to also have the Java Level one open in a different tab so see both languages running."
   ]
  },
  {
   "cell_type": "markdown",
   "metadata": {},
   "source": [
    "## Classes and Objects\n",
    "In object orients programming langauges, like Java and Python, classes allows us to define our own types. Once we have defined those types we in fact made a blueprint of what this class can do. Once we have out blueprint, we can then create objects of that class or type. An object is an instance of a class, think of it as you were building a house. TO build a house, you need a blueprint, that blueprint was the entire design of what the house will look like, once you ahve tat blueprint, you can then make as many houses as you want this that design.\n",
    "\n",
    "OR do cellphones, your cellphone was desinged by a company, let's say Apple, they created a blueprint of how their phones look and work. Everytime the factory prodcues a cellphone, it's an instance of the blueprint design. "
   ]
  },
  {
   "cell_type": "code",
   "execution_count": null,
   "metadata": {},
   "outputs": [],
   "source": [
    "class HelloWorld:\n",
    "    string = \"Hello World\"\n",
    "    \n",
    "    "
   ]
  }
 ],
 "metadata": {
  "kernelspec": {
   "display_name": "Python 3",
   "language": "python",
   "name": "python3"
  },
  "language_info": {
   "codemirror_mode": {
    "name": "ipython",
    "version": 3
   },
   "file_extension": ".py",
   "mimetype": "text/x-python",
   "name": "python",
   "nbconvert_exporter": "python",
   "pygments_lexer": "ipython3",
   "version": "3.6.5"
  }
 },
 "nbformat": 4,
 "nbformat_minor": 2
}
