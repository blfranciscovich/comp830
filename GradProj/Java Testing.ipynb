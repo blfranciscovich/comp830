{
 "cells": [
  {
   "cell_type": "markdown",
   "metadata": {},
   "source": [
    "## Classes\n",
    "What is a Class and an Object?\n",
    "In Java, a class doesn’t mean the same thing as the classes you take in school. A class is used to define a type (classify something). The class defines what objects of the class need to know (data or fields) and do (behaviors or methods).\n",
    "\n",
    "There are many classes that are part of the Java langague, but you only have to know a few of these for the AP CS A exam (String, Math, System, List, ArrayList)."
   ]
  },
  {
   "cell_type": "code",
   "execution_count": 1,
   "metadata": {},
   "outputs": [
    {
     "name": "stdout",
     "output_type": "stream",
     "text": [
      "5\n",
      "5.5\n",
      "5.5\n",
      "Java\n",
      "Java can use single or double quotes!\n",
      "Java can use single, double, or triple quotes!\n",
      "true\n",
      "false\n"
     ]
    }
   ],
   "source": [
    "// This is a Java comment\n",
    "\n",
    "// Let's declare an integer variable\n",
    "int a = 5;\n",
    "System.out.println(a);\n",
    "\n",
    "// Let's declare a float variable\n",
    "float b = 5.5;\n",
    "System.out.println(b);\n",
    "\n",
    "// Let's declare a double variable\n",
    "double c = 5.5;\n",
    "System.out.println(c);\n",
    "\n",
    "// Let's declare a string variable\n",
    "String d = 'Java';\n",
    "System.out.println(d);\n",
    "\n",
    "// Let's declare a second string variable\n",
    "String e = \"Java can use single or double quotes!\";\n",
    "System.out.println(e);\n",
    "\n",
    "// Let's declare a third string variable\n",
    "String f = '''Java can use single, double, or triple quotes!''';\n",
    "System.out.println(f);\n",
    "\n",
    "// Let's declare a boolean variable\n",
    "boolean g = true;\n",
    "System.out.println(g);\n",
    "\n",
    "// Let's declare a second boolean variable\n",
    "boolean h = false;\n",
    "System.out.println(h);"
   ]
  },
  {
   "cell_type": "code",
   "execution_count": 9,
   "metadata": {},
   "outputs": [
    {
     "name": "stdout",
     "output_type": "stream",
     "text": [
      "6\n"
     ]
    }
   ],
   "source": [
    "//a = b;\n",
    "//System.out.println(a);\n",
    "\n",
    "int a = 5;\n",
    "double b = 6.3;\n",
    "\n",
    "a = b;\n",
    "\n",
    "System.out.println(a);\n",
    "\n"
   ]
  },
  {
   "cell_type": "code",
   "execution_count": 10,
   "metadata": {},
   "outputs": [
    {
     "name": "stderr",
     "output_type": "stream",
     "text": [
      "[ERROR] null\n",
      "org.codehaus.groovy.runtime.typehandling.GroovyCastException: Cannot cast object '6.3' with class 'java.lang.String' to class 'int'\n",
      "\tat org.codehaus.groovy.runtime.typehandling.DefaultTypeTransformation.castToNumber(DefaultTypeTransformation.java:160)\n",
      "\tat org.codehaus.groovy.runtime.typehandling.DefaultTypeTransformation.intUnbox(DefaultTypeTransformation.java:69)\n",
      "\tat Script9.run(Script9.groovy:4)\n",
      "\tat org.scijava.plugins.scripting.groovy.GroovyScriptEngine.eval(GroovyScriptEngine.java:303)\n",
      "\tat org.scijava.plugins.scripting.groovy.GroovyScriptEngine.eval(GroovyScriptEngine.java:122)\n",
      "\tat javax.script.AbstractScriptEngine.eval(AbstractScriptEngine.java:264)\n",
      "\tat org.scijava.script.ScriptModule.run(ScriptModule.java:160)\n",
      "\tat org.scijava.module.ModuleRunner.run(ModuleRunner.java:168)\n",
      "\tat org.scijava.jupyter.kernel.evaluator.Worker.run(Worker.java:108)\n",
      "\tat org.scijava.thread.DefaultThreadService$2.run(DefaultThreadService.java:221)\n",
      "\tat java.util.concurrent.Executors$RunnableAdapter.call(Executors.java:511)\n",
      "\tat java.util.concurrent.FutureTask.run(FutureTask.java:266)\n",
      "\tat java.util.concurrent.ThreadPoolExecutor.runWorker(ThreadPoolExecutor.java:1142)\n",
      "\tat java.util.concurrent.ThreadPoolExecutor$Worker.run(ThreadPoolExecutor.java:617)\n",
      "\tat java.lang.Thread.run(Thread.java:745)\n"
     ]
    }
   ],
   "source": [
    "//The following code will give you an error, to test it, remove the comments.\n",
    "int a = 5;\n",
    "String b = \"6.3\";\n",
    "a = b;\n",
    "System.out.println(a);"
   ]
  },
  {
   "cell_type": "code",
   "execution_count": 31,
   "metadata": {},
   "outputs": [
    {
     "data": {
      "text/html": [
       "<style>table.converted {color: #333; font-family: Helvetica, Arial, sans-serif; border-collapse: collapse; border-spacing: 0;}table.converted td, table.converted th {border: 1px solid #C9C7C7;}table.converted th, table.converted td.rowLabel {background: #626262; color: #FFFFFF; font-weight: bold; text-align: left;}table.converted td {text-align: left;}table.converted tr:nth-child(even) {background: #F3F3F3;}table.converted tr:nth-child(odd) {background: #FFFFFF;}table.converted tbody tr:hover {background: #BDF4B5;}table.converted td.rowLabel, table.converted th.rowLabel {display: none;}</style><table class=\"converted\"><tbody><tr><td>1</td></tr><tr><td>2</td></tr><tr><td>3</td></tr></tbody></table>"
      ]
     },
     "execution_count": 31,
     "metadata": {},
     "output_type": "execute_result"
    }
   ],
   "source": [
    "//str = \"Hello I'm your String\";\n",
    "//String[] splited = str.split(\"\\\\s+\");\n",
    "\n",
    "\n",
    "//Let's create a list of strings\n",
    "//String[] stringList = {\"Python\", \"Java\", \"C\", \"C++\"};\n",
    "//String[] cars = {\"Volvo\", \"BMW\", \"Ford\", \"Mazda\"};\n",
    "//Integer[] count = {0,0,0,0,0,0,0,0,0,0};\n",
    "\n",
    "//Let's create a list of integers\n",
    "//integerList = [1, 2, 3, 4]\n",
    "//print(integerList)\n",
    "\n",
    "//Let's create a list of strings and integers\n",
    "//intstrList = [1, \"Python\", 2, \"Java\"]\n",
    "//print(intstrList)\n",
    "\n",
    "//ArrayList<Integer> integerList = [1,2,3];\n",
    "\n",
    "ArrayList<String> strList = [\"1\", \"2\", \"3\"];\n",
    "\n",
    "\n",
    "\n"
   ]
  },
  {
   "cell_type": "code",
   "execution_count": 30,
   "metadata": {},
   "outputs": [
    {
     "data": {
      "text/plain": [
       "va"
      ]
     },
     "execution_count": 30,
     "metadata": {},
     "output_type": "execute_result"
    }
   ],
   "source": [
    "//Let's try slicing! Let's return the characters from index 2 to 4\n",
    "String a = 'Java';\n",
    "a.substring(2,4);"
   ]
  },
  {
   "cell_type": "code",
   "execution_count": 40,
   "metadata": {},
   "outputs": [
    {
     "name": "stdout",
     "output_type": "stream",
     "text": [
      "[language:Java, type:interpreted and compiled, released:1995]\n",
      "interpreted and compiled\n",
      "[language:Java, type:interpreted and compiled, released:2018]\n"
     ]
    }
   ],
   "source": [
    "HashMap<String, String> ourDict = new HashMap<String, String>();\n",
    "ourDict.put(\"language\", \"Java\");\n",
    "ourDict.put(\"type\", \"interpreted and compiled\");\n",
    "ourDict.put(\"released\", \"1995\");\n",
    "System.out.println(ourDict);\n",
    "\n",
    "a = ourDict.get(\"type\");\n",
    "System.out.println(a);\n",
    "\n",
    "ourDict.put(\"released\", \"2018\");\n",
    "System.out.println(ourDict);\n",
    "\n"
   ]
  },
  {
   "cell_type": "code",
   "execution_count": 37,
   "metadata": {},
   "outputs": [
    {
     "name": "stdout",
     "output_type": "stream",
     "text": [
      "[released:2018]\n"
     ]
    }
   ],
   "source": [
    "HashMap<String, String> ourDict = new HashMap<String, String>();\n",
    "ourDict.put(\"released\", \"2018\");\n",
    "System.out.println(ourDict);"
   ]
  },
  {
   "cell_type": "code",
   "execution_count": null,
   "metadata": {},
   "outputs": [],
   "source": [
    "#Let's write a conditional statement!\n",
    "grade = 95\n",
    "\n",
    "#Let's start with an if statement\n",
    "if grade < 60:\n",
    "    print('F')\n",
    "    \n",
    "#Now, let's use else if or what's called elif in Python\n",
    "elif grade < 70:\n",
    "    print('D')\n",
    "elif grade < 80:\n",
    "    print('C')\n",
    "elif grade < 90:\n",
    "    print('B')\n",
    "\n",
    "#Let's end with an else\n",
    "else:\n",
    "    print('A')"
   ]
  },
  {
   "cell_type": "code",
   "execution_count": 8,
   "metadata": {},
   "outputs": [
    {
     "name": "stdout",
     "output_type": "stream",
     "text": [
      "A\n"
     ]
    }
   ],
   "source": [
    "//Let's write a conditional statement!\n",
    "int grade = 95;\n",
    "\n",
    "//Let's start with an if statement\n",
    "if (grade < 60) {\n",
    "    System.out.println('F');\n",
    "    \n",
    "    //Now, let's use else if\n",
    "    } else if (grade < 70) {\n",
    "        System.out.println('D');\n",
    "    } else if (grade < 80) {\n",
    "        System.out.println('C');\n",
    "    } else if (grade < 90) {\n",
    "        System.out.println('B');\n",
    "    \n",
    "    //Let's end with an else\n",
    "    } else {\n",
    "        System.out.println('A');\n",
    "    }\n",
    "    \n",
    "\n",
    "    \n"
   ]
  },
  {
   "cell_type": "code",
   "execution_count": 2,
   "metadata": {},
   "outputs": [
    {
     "name": "stdout",
     "output_type": "stream",
     "text": [
      "F\n"
     ]
    }
   ],
   "source": [
    "int grade = 65;\n",
    "int letterGrade = grade / 10;\n",
    "\n",
    "switch (letterGrade) {\n",
    "    case 10:\n",
    "        System.out.println('Perfect Score!');\n",
    "        break;\n",
    "    default:\n",
    "        System.out.println('F');   \n",
    "        break;\n",
    "}"
   ]
  },
  {
   "cell_type": "code",
   "execution_count": 15,
   "metadata": {},
   "outputs": [
    {
     "name": "stderr",
     "output_type": "stream",
     "text": [
      "[ERROR] null\n",
      "org.codehaus.groovy.control.MultipleCompilationErrorsException: startup failed:\n",
      "Script15.groovy: 19: unexpected token: do @ line 19, column 1.\n",
      "   do {\n",
      "   ^\n",
      "\n",
      "1 error\n",
      "\n",
      "\tat org.codehaus.groovy.control.ErrorCollector.failIfErrors(ErrorCollector.java:310)\n",
      "\tat org.codehaus.groovy.control.ErrorCollector.addFatalError(ErrorCollector.java:150)\n",
      "\tat org.codehaus.groovy.control.ErrorCollector.addError(ErrorCollector.java:120)\n",
      "\tat org.codehaus.groovy.control.ErrorCollector.addError(ErrorCollector.java:132)\n",
      "\tat org.codehaus.groovy.control.SourceUnit.addError(SourceUnit.java:350)\n",
      "\tat org.codehaus.groovy.antlr.AntlrParserPlugin.transformCSTIntoAST(AntlrParserPlugin.java:144)\n",
      "\tat org.codehaus.groovy.antlr.AntlrParserPlugin.parseCST(AntlrParserPlugin.java:110)\n",
      "\tat org.codehaus.groovy.control.SourceUnit.parse(SourceUnit.java:234)\n",
      "\tat org.codehaus.groovy.control.CompilationUnit$1.call(CompilationUnit.java:168)\n",
      "\tat org.codehaus.groovy.control.CompilationUnit.applyToSourceUnits(CompilationUnit.java:943)\n",
      "\tat org.codehaus.groovy.control.CompilationUnit.doPhaseOperation(CompilationUnit.java:605)\n",
      "\tat org.codehaus.groovy.control.CompilationUnit.processPhaseOperations(CompilationUnit.java:581)\n",
      "\tat org.codehaus.groovy.control.CompilationUnit.compile(CompilationUnit.java:558)\n",
      "\tat groovy.lang.GroovyClassLoader.doParseClass(GroovyClassLoader.java:298)\n",
      "\tat groovy.lang.GroovyClassLoader.parseClass(GroovyClassLoader.java:268)\n",
      "\tat groovy.lang.GroovyClassLoader.parseClass(GroovyClassLoader.java:254)\n",
      "\tat groovy.lang.GroovyClassLoader.parseClass(GroovyClassLoader.java:250)\n",
      "\tat org.scijava.plugins.scripting.groovy.GroovyScriptEngine.getScriptClass(GroovyScriptEngine.java:319)\n",
      "\tat org.scijava.plugins.scripting.groovy.GroovyScriptEngine.eval(GroovyScriptEngine.java:122)\n",
      "\tat javax.script.AbstractScriptEngine.eval(AbstractScriptEngine.java:264)\n",
      "\tat org.scijava.script.ScriptModule.run(ScriptModule.java:160)\n",
      "\tat org.scijava.module.ModuleRunner.run(ModuleRunner.java:168)\n",
      "\tat org.scijava.jupyter.kernel.evaluator.Worker.run(Worker.java:108)\n",
      "\tat org.scijava.thread.DefaultThreadService$2.run(DefaultThreadService.java:221)\n",
      "\tat java.util.concurrent.Executors$RunnableAdapter.call(Executors.java:511)\n",
      "\tat java.util.concurrent.FutureTask.run(FutureTask.java:266)\n",
      "\tat java.util.concurrent.ThreadPoolExecutor.runWorker(ThreadPoolExecutor.java:1142)\n",
      "\tat java.util.concurrent.ThreadPoolExecutor$Worker.run(ThreadPoolExecutor.java:617)\n",
      "\tat java.lang.Thread.run(Thread.java:745)\n"
     ]
    }
   ],
   "source": [
    "//initialized condition; testing condition; increment/decrement\n",
    "for (Integer i = 0; i < 10; i++ ) {\n",
    "    System.out.println(i);\n",
    "}\n",
    "//So we can see the different loops, let's put a space between them\n",
    "System.out.println('\\n');\n",
    "\n",
    "//Let's write a while loop\n",
    "int i = 10;\n",
    "while (i > 0){\n",
    "    i--;\n",
    "    System.out.println(i);\n",
    "}\n",
    "System.out.println('\\n');\n",
    "\n",
    "//Let's write a do statement\n",
    "//Jupyter Notebook does not support do statements in Java\n",
    "//int i = 10;\n",
    "//do {\n",
    "//    i--;\n",
    "//    System.out.println(i);\n",
    "//} while (i > 0);"
   ]
  },
  {
   "cell_type": "code",
   "execution_count": 8,
   "metadata": {},
   "outputs": [],
   "source": [
    "//Let's write a while loop\n",
    "int i = 10;\n",
    "while (i > 0){\n",
    "    System.out.println(i);\n",
    "    i--;\n",
    "}"
   ]
  },
  {
   "cell_type": "code",
   "execution_count": 13,
   "metadata": {},
   "outputs": [
    {
     "name": "stderr",
     "output_type": "stream",
     "text": [
      "[ERROR] null\n",
      "org.codehaus.groovy.control.MultipleCompilationErrorsException: startup failed:\n",
      "Script13.groovy: 3: unexpected token: do @ line 3, column 1.\n",
      "   do {\n",
      "   ^\n",
      "\n",
      "1 error\n",
      "\n",
      "\tat org.codehaus.groovy.control.ErrorCollector.failIfErrors(ErrorCollector.java:310)\n",
      "\tat org.codehaus.groovy.control.ErrorCollector.addFatalError(ErrorCollector.java:150)\n",
      "\tat org.codehaus.groovy.control.ErrorCollector.addError(ErrorCollector.java:120)\n",
      "\tat org.codehaus.groovy.control.ErrorCollector.addError(ErrorCollector.java:132)\n",
      "\tat org.codehaus.groovy.control.SourceUnit.addError(SourceUnit.java:350)\n",
      "\tat org.codehaus.groovy.antlr.AntlrParserPlugin.transformCSTIntoAST(AntlrParserPlugin.java:144)\n",
      "\tat org.codehaus.groovy.antlr.AntlrParserPlugin.parseCST(AntlrParserPlugin.java:110)\n",
      "\tat org.codehaus.groovy.control.SourceUnit.parse(SourceUnit.java:234)\n",
      "\tat org.codehaus.groovy.control.CompilationUnit$1.call(CompilationUnit.java:168)\n",
      "\tat org.codehaus.groovy.control.CompilationUnit.applyToSourceUnits(CompilationUnit.java:943)\n",
      "\tat org.codehaus.groovy.control.CompilationUnit.doPhaseOperation(CompilationUnit.java:605)\n",
      "\tat org.codehaus.groovy.control.CompilationUnit.processPhaseOperations(CompilationUnit.java:581)\n",
      "\tat org.codehaus.groovy.control.CompilationUnit.compile(CompilationUnit.java:558)\n",
      "\tat groovy.lang.GroovyClassLoader.doParseClass(GroovyClassLoader.java:298)\n",
      "\tat groovy.lang.GroovyClassLoader.parseClass(GroovyClassLoader.java:268)\n",
      "\tat groovy.lang.GroovyClassLoader.parseClass(GroovyClassLoader.java:254)\n",
      "\tat groovy.lang.GroovyClassLoader.parseClass(GroovyClassLoader.java:250)\n",
      "\tat org.scijava.plugins.scripting.groovy.GroovyScriptEngine.getScriptClass(GroovyScriptEngine.java:319)\n",
      "\tat org.scijava.plugins.scripting.groovy.GroovyScriptEngine.eval(GroovyScriptEngine.java:122)\n",
      "\tat javax.script.AbstractScriptEngine.eval(AbstractScriptEngine.java:264)\n",
      "\tat org.scijava.script.ScriptModule.run(ScriptModule.java:160)\n",
      "\tat org.scijava.module.ModuleRunner.run(ModuleRunner.java:168)\n",
      "\tat org.scijava.jupyter.kernel.evaluator.Worker.run(Worker.java:108)\n",
      "\tat org.scijava.thread.DefaultThreadService$2.run(DefaultThreadService.java:221)\n",
      "\tat java.util.concurrent.Executors$RunnableAdapter.call(Executors.java:511)\n",
      "\tat java.util.concurrent.FutureTask.run(FutureTask.java:266)\n",
      "\tat java.util.concurrent.ThreadPoolExecutor.runWorker(ThreadPoolExecutor.java:1142)\n",
      "\tat java.util.concurrent.ThreadPoolExecutor$Worker.run(ThreadPoolExecutor.java:617)\n",
      "\tat java.lang.Thread.run(Thread.java:745)\n"
     ]
    }
   ],
   "source": []
  },
  {
   "cell_type": "code",
   "execution_count": 17,
   "metadata": {},
   "outputs": [
    {
     "name": "stderr",
     "output_type": "stream",
     "text": [
      "[ERROR] null\n",
      "org.codehaus.groovy.control.MultipleCompilationErrorsException: startup failed:\n",
      "Script17.groovy: 5: Invalid constructor format. Remove 'void' as the return type if you want a constructor, or use a different name if you want a method. at line: 5 column: 5. File: Script17.groovy @ line 5, column 5.\n",
      "       public void GlobalVariable(){\n",
      "       ^\n",
      "\n",
      "1 error\n",
      "\n",
      "\tat org.codehaus.groovy.control.ErrorCollector.failIfErrors(ErrorCollector.java:310)\n",
      "\tat org.codehaus.groovy.control.CompilationUnit.applyToSourceUnits(CompilationUnit.java:958)\n",
      "\tat org.codehaus.groovy.control.CompilationUnit.doPhaseOperation(CompilationUnit.java:605)\n",
      "\tat org.codehaus.groovy.control.CompilationUnit.processPhaseOperations(CompilationUnit.java:581)\n",
      "\tat org.codehaus.groovy.control.CompilationUnit.compile(CompilationUnit.java:558)\n",
      "\tat groovy.lang.GroovyClassLoader.doParseClass(GroovyClassLoader.java:298)\n",
      "\tat groovy.lang.GroovyClassLoader.parseClass(GroovyClassLoader.java:268)\n",
      "\tat groovy.lang.GroovyClassLoader.parseClass(GroovyClassLoader.java:254)\n",
      "\tat groovy.lang.GroovyClassLoader.parseClass(GroovyClassLoader.java:250)\n",
      "\tat org.scijava.plugins.scripting.groovy.GroovyScriptEngine.getScriptClass(GroovyScriptEngine.java:319)\n",
      "\tat org.scijava.plugins.scripting.groovy.GroovyScriptEngine.eval(GroovyScriptEngine.java:122)\n",
      "\tat javax.script.AbstractScriptEngine.eval(AbstractScriptEngine.java:264)\n",
      "\tat org.scijava.script.ScriptModule.run(ScriptModule.java:160)\n",
      "\tat org.scijava.module.ModuleRunner.run(ModuleRunner.java:168)\n",
      "\tat org.scijava.jupyter.kernel.evaluator.Worker.run(Worker.java:108)\n",
      "\tat org.scijava.thread.DefaultThreadService$2.run(DefaultThreadService.java:221)\n",
      "\tat java.util.concurrent.Executors$RunnableAdapter.call(Executors.java:511)\n",
      "\tat java.util.concurrent.FutureTask.run(FutureTask.java:266)\n",
      "\tat java.util.concurrent.ThreadPoolExecutor.runWorker(ThreadPoolExecutor.java:1142)\n",
      "\tat java.util.concurrent.ThreadPoolExecutor$Worker.run(ThreadPoolExecutor.java:617)\n",
      "\tat java.lang.Thread.run(Thread.java:745)\n"
     ]
    }
   ],
   "source": [
    "//Let's write a class with a global variable\n",
    "public class GlobalVariable{\n",
    "    String x = \"global\";\n",
    "    \n",
    "    public void GlobalVariable(){\n",
    "         this.getGlobal();\n",
    "    }\n",
    "    \n",
    "    public String getGlobal() {\n",
    "    System.Out.Println(\"x inside: \" + x);\n",
    "}\n",
    "    \n",
    "    \n",
    "}"
   ]
  },
  {
   "cell_type": "code",
   "execution_count": 18,
   "metadata": {},
   "outputs": [
    {
     "name": "stderr",
     "output_type": "stream",
     "text": [
      "[ERROR] null\n",
      "org.codehaus.groovy.runtime.metaclass.MissingMethodExceptionNoStack: No signature of method: Timer.main() is applicable for argument types: ([Ljava.lang.String;) values: [[]]\n",
      "Possible solutions: wait(), wait(long), run(), find(), any(), wait(long, int)\n"
     ]
    }
   ],
   "source": [
    "public class Timer implements java.lang.Runnable{\n",
    "\t\n",
    "\tpublic void run() {\n",
    "        this.runTimer();\n",
    "    }\n",
    "\n",
    "    public void runTimer(){\n",
    "        int i = 20;\n",
    "         while (i>0){\n",
    "        \t boolean timer = true;\n",
    "          //System.out.println(\"Remaining: \"+ i + \" seconds\");\n",
    "          try {\n",
    "            i--;\n",
    "            Thread.sleep(1000L);    // 1000L = 1000ms = 1 second\n",
    "           }\n",
    "           catch (InterruptedException e) {\n",
    "        \t   System.out.println(\"Error\");\n",
    "           }\n",
    "         }\n",
    "         if (i==0) {\n",
    "        \t boolean timer = false;\n",
    "         }\n",
    "    }\n",
    "\n",
    "}"
   ]
  },
  {
   "cell_type": "code",
   "execution_count": 19,
   "metadata": {},
   "outputs": [
    {
     "name": "stderr",
     "output_type": "stream",
     "text": [
      "[ERROR] null\n",
      "groovy.lang.GroovyRuntimeException: Failed to create Script instance for class: class Fraction. Reason: java.lang.InstantiationException: Fraction\n",
      "\tat org.codehaus.groovy.runtime.InvokerHelper.createScript(InvokerHelper.java:466)\n",
      "\tat org.scijava.plugins.scripting.groovy.GroovyScriptEngine.eval(GroovyScriptEngine.java:239)\n",
      "\tat org.scijava.plugins.scripting.groovy.GroovyScriptEngine.eval(GroovyScriptEngine.java:122)\n",
      "\tat javax.script.AbstractScriptEngine.eval(AbstractScriptEngine.java:264)\n",
      "\tat org.scijava.script.ScriptModule.run(ScriptModule.java:160)\n",
      "\tat org.scijava.module.ModuleRunner.run(ModuleRunner.java:168)\n",
      "\tat org.scijava.jupyter.kernel.evaluator.Worker.run(Worker.java:108)\n",
      "\tat org.scijava.thread.DefaultThreadService$2.run(DefaultThreadService.java:221)\n",
      "\tat java.util.concurrent.Executors$RunnableAdapter.call(Executors.java:511)\n",
      "\tat java.util.concurrent.FutureTask.run(FutureTask.java:266)\n",
      "\tat java.util.concurrent.ThreadPoolExecutor.runWorker(ThreadPoolExecutor.java:1142)\n",
      "\tat java.util.concurrent.ThreadPoolExecutor$Worker.run(ThreadPoolExecutor.java:617)\n",
      "\tat java.lang.Thread.run(Thread.java:745)\n",
      "Caused by: java.lang.InstantiationException: Fraction\n",
      "\tat java.lang.Class.newInstance(Class.java:427)\n",
      "\tat org.codehaus.groovy.runtime.InvokerHelper.createScript(InvokerHelper.java:438)\n",
      "\t... 12 more\n",
      "Caused by: java.lang.NoSuchMethodException: Fraction.<init>()\n",
      "\tat java.lang.Class.getConstructor0(Class.java:3082)\n",
      "\tat java.lang.Class.newInstance(Class.java:412)\n",
      "\t... 13 more\n"
     ]
    }
   ],
   "source": [
    "public class Fraction {\n",
    "\n",
    "    private Integer numerator;\n",
    "    private Integer denominator;\n",
    "\n",
    "    public Fraction(Integer num, Integer den) {\n",
    "        this.numerator = num;\n",
    "        this.denominator = den;\n",
    "    }\n",
    "\n",
    "    public Fraction(Integer num) {\n",
    "        this.numerator = num;\n",
    "        this.denominator = 1;\n",
    "    }\n",
    "\n",
    "    public Fraction add(Fraction other) {\n",
    "        Integer newNum, newDen, common;\n",
    "\n",
    "        newNum = other.getDenominator()*this.numerator + this.denominator*other.getNumerator();\n",
    "        newDen = this.denominator * other.getDenominator();\n",
    "        common = gcd(newNum,newDen);\n",
    "        return new Fraction(newNum/common, newDen/common );\n",
    "    }\n",
    "\n",
    "    public Fraction add(Integer other) {\n",
    "        return add(new Fraction(other));\n",
    "    }\n",
    "\n",
    "    private static Integer gcd(Integer m, Integer n) {\n",
    "        while (m % n != 0) {\n",
    "            Integer oldm = m;\n",
    "            Integer oldn = n;\n",
    "            m = oldn;\n",
    "            n = oldm%oldn;\n",
    "        }\n",
    "        return n;\n",
    "    }\n",
    "\n",
    "    public static void main(String[] args) {\n",
    "        Fraction f1 = new Fraction(1,2);\n",
    "        Fraction f2 = new Fraction(2,3);\n",
    "\n",
    "        System.out.println(f1.mul(f2));\n",
    "        System.out.println(f1.add(1));\n",
    "    }\n",
    "\n",
    "}"
   ]
  },
  {
   "cell_type": "code",
   "execution_count": null,
   "metadata": {},
   "outputs": [],
   "source": []
  }
 ],
 "metadata": {
  "kernelspec": {
   "display_name": "SciJava",
   "language": "groovy",
   "name": "scijava"
  },
  "language_info": {
   "codemirror_mode": "groovy",
   "file_extension": "",
   "mimetype": "",
   "name": "scijava",
   "nbconverter_exporter": "",
   "pygments_lexer": "groovy",
   "version": "1.0"
  }
 },
 "nbformat": 4,
 "nbformat_minor": 2
}
